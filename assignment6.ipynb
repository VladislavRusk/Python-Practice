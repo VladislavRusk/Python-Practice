{
 "cells": [
  {
   "cell_type": "code",
   "execution_count": 3,
   "metadata": {},
   "outputs": [
    {
     "data": {
      "text/plain": [
       "True"
      ]
     },
     "execution_count": 3,
     "metadata": {},
     "output_type": "execute_result"
    }
   ],
   "source": [
    "# NUMBER 1\n",
    "# @param - accepts a list of coefficients for polynomial, and the range of integration\n",
    "# @return - returns a float value of the answer to the integral of the polynomial with\n",
    "# the given range of values\n",
    "def integrate_poly(loc, a, b):\n",
    "    answer = 0\n",
    "    for i in range(len(loc)):\n",
    "        answer = answer + (loc[i]/(i+1)*((b**(i+1)) - (a**(i+1))))\n",
    "    return answer\n",
    "\n",
    "integrate_poly([1,2,3],1,2) == 11"
   ]
  },
  {
   "cell_type": "code",
   "execution_count": 6,
   "metadata": {},
   "outputs": [
    {
     "data": {
      "text/plain": [
       "True"
      ]
     },
     "execution_count": 6,
     "metadata": {},
     "output_type": "execute_result"
    }
   ],
   "source": [
    "# NUMBER 2\n",
    "# @param - accepts some differential function, a start x and y value,\n",
    "# h represents the ammount which the values of x will move to calculate next yn\n",
    "# n represents the number of iterations we will go through algorithm\n",
    "# @return - will return the estimated result for y, when x is a certain value\n",
    "def my_RK(x0, y0, F,h,n):\n",
    "    answer = 0\n",
    "    x = x0\n",
    "    y = y0\n",
    "    for i in range(n):\n",
    "        k1 = F(x,y)*h\n",
    "        k2 = F(x + (h/2),y + (k1/2))*h\n",
    "        k3 = F(x + (h/2), y + (k2/2))*h\n",
    "        k4 = F(x + h,y + k3)*h\n",
    "        x = x + h\n",
    "        y = y + (1/6)*(k1 + (2*k2) + (2*k3) + k4)\n",
    "    return y\n",
    "\n",
    "my_RK(0, 1, lambda x, y: x + y, 0.1, 10) == 3.436559488270332"
   ]
  },
  {
   "cell_type": "code",
   "execution_count": 7,
   "metadata": {},
   "outputs": [
    {
     "data": {
      "text/plain": [
       "True"
      ]
     },
     "execution_count": 7,
     "metadata": {},
     "output_type": "execute_result"
    }
   ],
   "source": [
    "# NUMBER 3\n",
    "# @param - accepts a function, and then the range of values for derivative along with number n\n",
    "# which will determine how accurate the approximation will be, because it is the number of values\n",
    "# of f(x) that will be calculated to determine its derivative (it has to be even)\n",
    "# @return returns the approximated value of derivative\n",
    "def my_simpson(f,a,b,n):\n",
    "    if n % 2 != 0:\n",
    "        return\n",
    "    deltaX = (b-a)/n\n",
    "    y0 = f(a)\n",
    "    yn = f(b)\n",
    "    answer = y0 + yn\n",
    "    for i in range(1,n):\n",
    "        xi = a + i*deltaX\n",
    "        yi = f(xi)\n",
    "        if i % 2 != 0:\n",
    "            yi = 4*yi\n",
    "        else:\n",
    "            yi = 2*yi\n",
    "        answer = answer + yi\n",
    "    return (deltaX/3)*answer\n",
    "\n",
    "my_simpson(lambda x : 1/x, 1, 2, 10) == 0.6931502306889303"
   ]
  },
  {
   "cell_type": "code",
   "execution_count": 32,
   "metadata": {},
   "outputs": [],
   "source": [
    "# function used for #4\n",
    "# @param - coeficients of a polynomail and the x value for the polynomial to be used to do calculation\n",
    "# @return - returns the fraction f(x0)/f'(x0) which will be used to calculate newtons method\n",
    "def newtonFrac(loc, x0):\n",
    "    derAns = 0\n",
    "    ans = 0\n",
    "    for i in range(len(loc)):\n",
    "        ans += loc[i]*(x0**i)\n",
    "        if i > 0:\n",
    "            derAns += loc[i]*i*(x0**(i-1))\n",
    "    return ans/derAns"
   ]
  },
  {
   "cell_type": "code",
   "execution_count": 31,
   "metadata": {},
   "outputs": [
    {
     "data": {
      "text/plain": [
       "True"
      ]
     },
     "execution_count": 31,
     "metadata": {},
     "output_type": "execute_result"
    }
   ],
   "source": [
    "# NUMBER 4\n",
    "# @param coeficients of a polynomail and the x value for the polynomial to be used to do calculation, and a tolerance\n",
    "# @return - will return the estimated root of polynomial based on starting point and tolerance given\n",
    "def my_newton(loc, x0, tol):\n",
    "    xnew = x0\n",
    "    xn = x0 + tol*2\n",
    "    while ((xnew - xn)**2) > tol**2:\n",
    "        xn = xnew\n",
    "        xnew = xn - newtonFrac(loc,xn)\n",
    "    return xnew\n",
    "\n",
    "my_newton([1, 1, 1, 4], 0, .00001) == -0.573736894569969"
   ]
  },
  {
   "cell_type": "code",
   "execution_count": null,
   "metadata": {},
   "outputs": [],
   "source": []
  }
 ],
 "metadata": {
  "kernelspec": {
   "display_name": "Python 3",
   "language": "python",
   "name": "python3"
  },
  "language_info": {
   "codemirror_mode": {
    "name": "ipython",
    "version": 3
   },
   "file_extension": ".py",
   "mimetype": "text/x-python",
   "name": "python",
   "nbconvert_exporter": "python",
   "pygments_lexer": "ipython3",
   "version": "3.7.3"
  }
 },
 "nbformat": 4,
 "nbformat_minor": 2
}
