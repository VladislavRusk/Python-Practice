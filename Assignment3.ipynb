{
 "cells": [
  {
   "cell_type": "code",
   "execution_count": 61,
   "metadata": {},
   "outputs": [
    {
     "name": "stdout",
     "output_type": "stream",
     "text": [
      "True\n"
     ]
    }
   ],
   "source": [
    "# @param a integer number\n",
    "# @return the factorial of that number\n",
    "def my_factorial(n):\n",
    "    if n <= 1:\n",
    "        return 1\n",
    "    factorial = 1\n",
    "    for i in range(2,n+1):\n",
    "        factorial *= i\n",
    "    return factorial\n",
    "\n",
    "print(my_factorial(5) == 120)"
   ]
  },
  {
   "cell_type": "code",
   "execution_count": 54,
   "metadata": {},
   "outputs": [
    {
     "name": "stdout",
     "output_type": "stream",
     "text": [
      "True\n"
     ]
    }
   ],
   "source": [
    "# @param 2 vectors, IE: 2 lists of numbers of same size\n",
    "# @return a list made up of sum of individual values in same index\n",
    "def vec_sum(v1,v2):\n",
    "    v3 = []\n",
    "    if len(v1) == len(v2):\n",
    "        for i in range(len(v1)):\n",
    "            v3.append(v1[i]+v2[i])\n",
    "    return v3\n",
    "\n",
    "print(vec_sum([2,17,24],[4,12,13]) == [6, 29, 37])\n"
   ]
  },
  {
   "cell_type": "code",
   "execution_count": 60,
   "metadata": {},
   "outputs": [
    {
     "name": "stdout",
     "output_type": "stream",
     "text": [
      "True\n"
     ]
    }
   ],
   "source": [
    "# @param 2 vectors, IE: 2 lists of numbers of same size\n",
    "# @return returns an number, dot product\n",
    "def dot_product(v1,v2):\n",
    "    answer = 0\n",
    "    if len(v1) == len(v2):    \n",
    "        for i in range(len(v1)):\n",
    "            answer += (v1[i]*v2[i])\n",
    "    return answer\n",
    "\n",
    "print(dot_product([2,17,24],[4,12,13]) == 524)"
   ]
  },
  {
   "cell_type": "code",
   "execution_count": 59,
   "metadata": {},
   "outputs": [
    {
     "name": "stdout",
     "output_type": "stream",
     "text": [
      "True\n"
     ]
    }
   ],
   "source": [
    "# @param some list of numbers and a scalar integer\n",
    "# @return a list of all values multiplied by scalar\n",
    "def scale_vec(v,c):\n",
    "    cv = []\n",
    "    for i in(v):\n",
    "        cv.append(c*i)\n",
    "    return cv\n",
    "print(scale_vec([4,12,13],2) == [8,24,26])"
   ]
  },
  {
   "cell_type": "code",
   "execution_count": 2,
   "metadata": {},
   "outputs": [
    {
     "name": "stdout",
     "output_type": "stream",
     "text": [
      "True\n"
     ]
    }
   ],
   "source": [
    "# @param a list\n",
    "# @return returns the average of that list in integer form\n",
    "def my_ave(lon):\n",
    "    total = 0\n",
    "    for i in(lon):\n",
    "        total += i\n",
    "    return total/len(lon)\n",
    "\n",
    "print(my_ave([1,2,3,4,5]) == 3)"
   ]
  },
  {
   "cell_type": "code",
   "execution_count": 3,
   "metadata": {},
   "outputs": [
    {
     "name": "stdout",
     "output_type": "stream",
     "text": [
      "3.8297084310253524\n"
     ]
    }
   ],
   "source": [
    "# USES MY_AVE\n",
    "# @param a list\n",
    "# @return the standard deviation as a float\n",
    "def my_sd(lon):\n",
    "    mean = my_ave(lon)\n",
    "    addUp = 0\n",
    "    for i in(lon):\n",
    "        addUp += (i - mean)**2\n",
    "    return (addUp/(len(lon) - 1))**0.5\n",
    "print(my_sd([1,2,3,3,9,10]))"
   ]
  },
  {
   "cell_type": "code",
   "execution_count": 31,
   "metadata": {},
   "outputs": [
    {
     "name": "stdout",
     "output_type": "stream",
     "text": [
      "True\n"
     ]
    }
   ],
   "source": [
    "# NUMBER 2\n",
    "# USES MY_AVE from #1\n",
    "# @param Accepts a student (list of lists)\n",
    "# @return returns updated student with hw and test averages\n",
    "def process_student(ast):\n",
    "    hmwAvg = my_ave(ast[1])\n",
    "    testAvg = my_ave(ast[2])\n",
    "    ast[3] = round(hmwAvg,2)\n",
    "    ast[4] = round(testAvg,2)\n",
    "    return ast\n",
    "print(process_student([\"John\", [10, 9, 8, 7, 5, 6, 0], [75, 80, 85], 0, 0, 88, 0,\"N/A\"]) == [\"John\", [10, 9, 8, 7, 5, 6, 0], [75, 80, 85], 6.43, 80.0, 88, 0, \"N/A\"])\n",
    "\n"
   ]
  },
  {
   "cell_type": "code",
   "execution_count": 45,
   "metadata": {},
   "outputs": [
    {
     "name": "stdout",
     "output_type": "stream",
     "text": [
      "True\n"
     ]
    }
   ],
   "source": [
    "# NUMBER 3\n",
    "# @param accepts a student\n",
    "# @return returns list of students with weighted percent and grade for the last 2 items in list\n",
    "def assign_student_grades(ast):\n",
    "    hw = ast[3]*0.3\n",
    "    tests = ast[4]*0.45\n",
    "    final = ast[5]*0.25\n",
    "    total = round(((hw + final + tests)/73)*100,3)\n",
    "    ast[6] = (hw + final + tests)\n",
    "    if total >= 90:\n",
    "        ast[7] = \"A\"\n",
    "    elif total >= 80:\n",
    "        ast[7] = \"B\"\n",
    "    elif total >= 70:\n",
    "        ast[7] = \"C\"\n",
    "    elif total >= 60:\n",
    "        ast[7] = \"D\"\n",
    "    else:\n",
    "        ast[7] = \"F\"\n",
    "    return ast\n",
    "        \n",
    "print(assign_student_grades([\"John\", [10, 9, 8, 7, 5, 6, 0], [75, 80, 85], 6.43, 80.0, 88, 0, \"N/A\"]) == [\"John\", [10, 9, 8, 7, 5, 6, 0], [75, 80, 85], 6.43, 80.0, 88, 59.929, \"B\"])       "
   ]
  },
  {
   "cell_type": "code",
   "execution_count": 50,
   "metadata": {},
   "outputs": [
    {
     "name": "stdout",
     "output_type": "stream",
     "text": [
      "True\n"
     ]
    }
   ],
   "source": [
    "# NUMBER 4\n",
    "# @param a list of numbers\n",
    "# @return returns a partially sorted list\n",
    "def sort_once(lon):\n",
    "    for i in range(len(lon)-1):\n",
    "        if lon[i] > lon[i+1]:\n",
    "            temp = lon[i]\n",
    "            lon[i] = lon[i+1]\n",
    "            lon[i+1] = temp\n",
    "    return lon\n",
    "\n",
    "\n",
    "print(sort_once([1, 4, 2, 3, 7, 0]) == [1, 2, 3, 4, 0, 7])"
   ]
  },
  {
   "cell_type": "code",
   "execution_count": null,
   "metadata": {},
   "outputs": [],
   "source": []
  }
 ],
 "metadata": {
  "kernelspec": {
   "display_name": "Python 3",
   "language": "python",
   "name": "python3"
  },
  "language_info": {
   "codemirror_mode": {
    "name": "ipython",
    "version": 3
   },
   "file_extension": ".py",
   "mimetype": "text/x-python",
   "name": "python",
   "nbconvert_exporter": "python",
   "pygments_lexer": "ipython3",
   "version": "3.7.3"
  }
 },
 "nbformat": 4,
 "nbformat_minor": 2
}
