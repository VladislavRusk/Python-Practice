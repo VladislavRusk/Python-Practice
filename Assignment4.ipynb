{
 "cells": [
  {
   "cell_type": "code",
   "execution_count": 6,
   "metadata": {},
   "outputs": [
    {
     "name": "stdout",
     "output_type": "stream",
     "text": [
      "True\n"
     ]
    }
   ],
   "source": [
    "# NUMBER 1a\n",
    "# adds to matricies together\n",
    "# @param accepts two matrices (lists made up of lists of numbers), the two matrices have to be the same size\n",
    "# @return it will return a matrix (a list of lists of numbers)\n",
    "def my_matrix_sum(M1,M2):\n",
    "    matrix = []\n",
    "    if len(M1) == len(M2) and len(M1) > 0 and len(M1[0]) == len(M2[0]):\n",
    "        for i in range(len(M1)):\n",
    "            matrix.append([])\n",
    "            for j in range(len(M1[i])):\n",
    "                matrix[i].append(M1[i][j] + M2[i][j])\n",
    "    return matrix\n",
    "\n",
    "M1 = [[1, 2, 3],[2, 4, 6],[3, 4, 5]]\n",
    "M2 = [[2, 2, 3],[7, 4, 6],[1, 2, 1]]\n",
    "M3 = [[3, 4, 6],[9, 8, 12],[4, 6, 6]]\n",
    "print(my_matrix_sum(M1,M2) == M3)\n",
    "                "
   ]
  },
  {
   "cell_type": "code",
   "execution_count": 5,
   "metadata": {},
   "outputs": [
    {
     "data": {
      "text/plain": [
       "True"
      ]
     },
     "execution_count": 5,
     "metadata": {},
     "output_type": "execute_result"
    }
   ],
   "source": [
    "# NUMBER 1b\n",
    "# converts a list to a column vector\n",
    "# @param accepts a column vector (list of lists of single numbers)\n",
    "# @return it returns some row vector, (a list of numbers)\n",
    "def column_to_row(cv):\n",
    "    rowV = []\n",
    "    for i in range(len(cv)):\n",
    "        rowV.append(cv[i][0])\n",
    "    return rowV\n",
    "\n",
    "column_to_row([[1],[2],[3]]) == [1,2,3]"
   ]
  },
  {
   "cell_type": "code",
   "execution_count": 7,
   "metadata": {},
   "outputs": [
    {
     "data": {
      "text/plain": [
       "True"
      ]
     },
     "execution_count": 7,
     "metadata": {},
     "output_type": "execute_result"
    }
   ],
   "source": [
    "# NUMBER 1c\n",
    "# @param accepts a matrix or a list of lists of numbers and a column vector. \n",
    "# The number of columns in matrix A must be equal to number of rows of column vector v\n",
    "# @return a column vector of the product of a matrix and column vector\n",
    "def my_vm_product(A,v):\n",
    "    cv = []\n",
    "    i = 0\n",
    "    while i < len(A) and len(v) == len(A[i]):\n",
    "        prod = 0\n",
    "        for j in range(len(A[i])):\n",
    "            prod += A[i][j]*v[j][0]\n",
    "        cv.append([prod])\n",
    "        i += 1\n",
    "    return cv\n",
    "\n",
    "my_vm_product([[1, 2, 3],[2, 4, 6],[3, 4, 5]],[[1],[2],[3]]) == [[14],[28],[26]]"
   ]
  },
  {
   "cell_type": "code",
   "execution_count": 8,
   "metadata": {},
   "outputs": [
    {
     "data": {
      "text/plain": [
       "True"
      ]
     },
     "execution_count": 8,
     "metadata": {},
     "output_type": "execute_result"
    }
   ],
   "source": [
    "# NUMBER 2\n",
    "# converts a matrix to a transpose matrix\n",
    "# @param a matrix (a list of lists of numbers)\n",
    "# @return the transpose matrix, (a list of lists of numbers)\n",
    "def my_transpose(M):\n",
    "    Mt = []\n",
    "    for i in range(len(M[0])):\n",
    "        Mt.append([])\n",
    "        for j in range(len(M)):\n",
    "            Mt[i].append(M[j][i])\n",
    "    return Mt\n",
    "\n",
    "my_transpose([[1, 2],[3,4],[5,6]]) == [[1,3,5],[2,4,6]]"
   ]
  },
  {
   "cell_type": "code",
   "execution_count": 9,
   "metadata": {},
   "outputs": [],
   "source": [
    "# functions from Assignment 3\n",
    "\n",
    "# @param a list\n",
    "# @return returns the average of that list in integer form\n",
    "def my_ave(lon):\n",
    "    total = 0\n",
    "    for i in(lon):\n",
    "        total += i\n",
    "    return total/len(lon)\n",
    "\n",
    "\n",
    "# USES MY_AVE from #1\n",
    "# @param Accepts a student (list of lists)\n",
    "# @return returns updated student with hw and test averages\n",
    "def process_student(ast):\n",
    "    hmwAvg = my_ave(ast[1])\n",
    "    testAvg = my_ave(ast[2])\n",
    "    ast[3] = round(hmwAvg,2)\n",
    "    ast[4] = round(testAvg,2)\n",
    "    return ast\n",
    "\n",
    "\n",
    "# @param accepts a student\n",
    "# @return returns list of students with weighted percent and grade for the last 2 items in list\n",
    "def assign_student_grades(ast):\n",
    "    hw = ast[3]*0.3\n",
    "    tests = ast[4]*0.45\n",
    "    final = ast[5]*0.25\n",
    "    total = round(((hw + final + tests)/73)*100,3)\n",
    "    ast[6] = (hw + final + tests)\n",
    "    if total >= 90:\n",
    "        ast[7] = \"A\"\n",
    "    elif total >= 80:\n",
    "        ast[7] = \"B\"\n",
    "    elif total >= 70:\n",
    "        ast[7] = \"C\"\n",
    "    elif total >= 60:\n",
    "        ast[7] = \"D\"\n",
    "    else:\n",
    "        ast[7] = \"F\"\n",
    "    return ast"
   ]
  },
  {
   "cell_type": "code",
   "execution_count": 10,
   "metadata": {},
   "outputs": [
    {
     "data": {
      "text/plain": [
       "True"
      ]
     },
     "execution_count": 10,
     "metadata": {},
     "output_type": "execute_result"
    }
   ],
   "source": [
    "# Number 3 (NEED functions in above cell from assignment 3)\n",
    "# @param a list of students\n",
    "# @return returns a modified list of students with grades, weighted score, average homework scores\n",
    "def process_list_of_students(lost):\n",
    "    for i in range(len(lost)):\n",
    "        lost[i] = assign_student_grades(process_student(lost[i]))\n",
    "    return lost\n",
    "\n",
    "studentList = [[\"John\", [10, 9, 8, 7, 5, 6, 0], [75, 80, 85], 0, 0, 88, 0,\"N/A\"],[\"Mary\", [9, 7, 8, 7, 5, 3, 2], [99, 88, 87], 0, 0, 98, 0,\"N/A\"]]\n",
    "process_list_of_students(studentList) == [['John', [10, 9, 8, 7, 5, 6, 0], [75, 80, 85], 6.43, 80.0, 88, 59.929, 'B'], ['Mary', [9, 7, 8, 7, 5, 3, 2], [99, 88, 87], 5.86, 91.33, 98, 67.3565, 'A']]"
   ]
  },
  {
   "cell_type": "code",
   "execution_count": 11,
   "metadata": {},
   "outputs": [
    {
     "name": "stdout",
     "output_type": "stream",
     "text": [
      "True\n",
      "True\n"
     ]
    }
   ],
   "source": [
    "# NUMBER 4\n",
    "# @param a list of numbers\n",
    "# @return a boolean value, true if list is sorted in ascending order\n",
    "# false otherwise\n",
    "def is_sorted(lon):\n",
    "    if len(lon) <= 1:\n",
    "        return True\n",
    "    for i in range(1,len(lon)):\n",
    "        if lon[i-1] > lon[i]:\n",
    "            return False\n",
    "    return True\n",
    "\n",
    "print(is_sorted([1,4,2,7,3,0]) == False)\n",
    "print(is_sorted([0,1,2,3,4,7]) == True)"
   ]
  },
  {
   "cell_type": "code",
   "execution_count": null,
   "metadata": {},
   "outputs": [],
   "source": []
  }
 ],
 "metadata": {
  "kernelspec": {
   "display_name": "Python 3",
   "language": "python",
   "name": "python3"
  },
  "language_info": {
   "codemirror_mode": {
    "name": "ipython",
    "version": 3
   },
   "file_extension": ".py",
   "mimetype": "text/x-python",
   "name": "python",
   "nbconvert_exporter": "python",
   "pygments_lexer": "ipython3",
   "version": "3.7.3"
  }
 },
 "nbformat": 4,
 "nbformat_minor": 2
}
