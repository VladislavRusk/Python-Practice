{
 "cells": [
  {
   "cell_type": "code",
   "execution_count": 5,
   "metadata": {},
   "outputs": [
    {
     "name": "stdout",
     "output_type": "stream",
     "text": [
      "479001600\n"
     ]
    }
   ],
   "source": [
    "n = 12\n",
    "fact = 1\n",
    "for i in range(n):\n",
    "    fact *= (i + 1)\n",
    "print(fact)"
   ]
  },
  {
   "cell_type": "code",
   "execution_count": 2,
   "metadata": {},
   "outputs": [
    {
     "name": "stdout",
     "output_type": "stream",
     "text": [
      "[1, 2, 6, 24, 120, 720, 5040, 40320, 362880, 3628800, 39916800, 479001600]\n"
     ]
    }
   ],
   "source": [
    "n = 12\n",
    "lst1 = []\n",
    "for i in range(n):\n",
    "    if i == 0:\n",
    "        lst1.append(1)\n",
    "    else:\n",
    "        lst1.append((i + 1)*lst1[i-1])\n",
    "        \n",
    "print(lst1)"
   ]
  },
  {
   "cell_type": "code",
   "execution_count": 27,
   "metadata": {},
   "outputs": [
    {
     "name": "stdout",
     "output_type": "stream",
     "text": [
      "A row vector is a matrix with only 1 row and any number of columns greater then 1\n"
     ]
    }
   ],
   "source": [
    "print(\"A row vector is a matrix with only 1 row and any number of columns greater then 1\")"
   ]
  },
  {
   "cell_type": "code",
   "execution_count": 36,
   "metadata": {},
   "outputs": [
    {
     "data": {
      "text/plain": [
       "[6, 51, 72]"
      ]
     },
     "execution_count": 36,
     "metadata": {},
     "output_type": "execute_result"
    }
   ],
   "source": [
    "c = 3\n",
    "v1 = [2,17,24]\n",
    "v3 = []\n",
    "for i in range(len(v1)):\n",
    "     v3.append(c*v1[i])\n",
    "v3"
   ]
  },
  {
   "cell_type": "code",
   "execution_count": 35,
   "metadata": {},
   "outputs": [
    {
     "data": {
      "text/plain": [
       "[6, 29, 37]"
      ]
     },
     "execution_count": 35,
     "metadata": {},
     "output_type": "execute_result"
    }
   ],
   "source": [
    "v1 = [2,17,24]\n",
    "v2 = [4,12,13]\n",
    "v4 = []\n",
    "for i in range(len(v1)):\n",
    "    v4.append(v1[i]+v2[i])\n",
    "v4"
   ]
  },
  {
   "cell_type": "code",
   "execution_count": 37,
   "metadata": {},
   "outputs": [
    {
     "data": {
      "text/plain": [
       "524"
      ]
     },
     "execution_count": 37,
     "metadata": {},
     "output_type": "execute_result"
    }
   ],
   "source": [
    "v1 = [2,17,24]\n",
    "v2 = [4,12,13]\n",
    "answer = 0\n",
    "for i in range(len(v1)):\n",
    "    answer += (v1[i]*v2[i])\n",
    "answer"
   ]
  },
  {
   "cell_type": "code",
   "execution_count": 38,
   "metadata": {},
   "outputs": [
    {
     "data": {
      "text/plain": [
       "False"
      ]
     },
     "execution_count": 38,
     "metadata": {},
     "output_type": "execute_result"
    }
   ],
   "source": [
    "alots1 = [72,89,90,95,85]\n",
    "boolean = False\n",
    "for i in range(len(alots1) - 1):\n",
    "    if alots1[i] > alots1[i+1]:\n",
    "        boolean = False\n",
    "    else:\n",
    "        boolean = True\n",
    "boolean\n"
   ]
  },
  {
   "cell_type": "code",
   "execution_count": 11,
   "metadata": {},
   "outputs": [
    {
     "data": {
      "text/plain": [
       "True"
      ]
     },
     "execution_count": 11,
     "metadata": {},
     "output_type": "execute_result"
    }
   ],
   "source": [
    "alots2 = [72,85,89,90,95]\n",
    "boolean = False\n",
    "for i in range(len(alots2) - 1):\n",
    "    if alots2[i] > alots2[i+1]:\n",
    "        boolean = False\n",
    "    else:\n",
    "        boolean = True\n",
    "boolean"
   ]
  },
  {
   "cell_type": "code",
   "execution_count": 40,
   "metadata": {},
   "outputs": [
    {
     "data": {
      "text/plain": [
       "['D', 'C', 'A', 'B', 'F', 'D', 'A', 'B']"
      ]
     },
     "execution_count": 40,
     "metadata": {},
     "output_type": "execute_result"
    }
   ],
   "source": [
    "lofs = [66,72,93,89,50,67,99,85]\n",
    "newLofs = []\n",
    "for i in lofs:\n",
    "    if i >= 90:\n",
    "        newLofs.append(\"A\")\n",
    "    elif i >= 80:\n",
    "        newLofs.append(\"B\")\n",
    "    elif i >= 70:\n",
    "        newLofs.append(\"C\")\n",
    "    elif i >= 60:\n",
    "        newLofs.append(\"D\")\n",
    "    else:\n",
    "        newLofs.append(\"F\")\n",
    "newLofs   "
   ]
  },
  {
   "cell_type": "code",
   "execution_count": 42,
   "metadata": {},
   "outputs": [
    {
     "data": {
      "text/plain": [
       "['D', 'C', 'A', 'B', 'F', 'D', 'A', 'B']"
      ]
     },
     "execution_count": 42,
     "metadata": {},
     "output_type": "execute_result"
    }
   ],
   "source": [
    "lofs = [66,72,93,89,50,67,99,85]\n",
    "for i in range(len(lofs)):\n",
    "    if lofs[i] >= 90:\n",
    "        lofs[i] = \"A\"\n",
    "    elif lofs[i] >= 80:\n",
    "        lofs[i] = \"B\"\n",
    "    elif lofs[i] >= 70:\n",
    "        lofs[i] = \"C\"\n",
    "    elif lofs[i] >= 60:\n",
    "        lofs[i] = \"D\"\n",
    "    else:\n",
    "        lofs[i] = \"F\"\n",
    "lofs"
   ]
  },
  {
   "cell_type": "code",
   "execution_count": null,
   "metadata": {},
   "outputs": [],
   "source": []
  }
 ],
 "metadata": {
  "kernelspec": {
   "display_name": "Python 3",
   "language": "python",
   "name": "python3"
  },
  "language_info": {
   "codemirror_mode": {
    "name": "ipython",
    "version": 3
   },
   "file_extension": ".py",
   "mimetype": "text/x-python",
   "name": "python",
   "nbconvert_exporter": "python",
   "pygments_lexer": "ipython3",
   "version": "3.7.3"
  }
 },
 "nbformat": 4,
 "nbformat_minor": 2
}
