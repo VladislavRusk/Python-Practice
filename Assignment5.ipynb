{
 "cells": [
  {
   "cell_type": "code",
   "execution_count": 7,
   "metadata": {},
   "outputs": [
    {
     "data": {
      "text/plain": [
       "True"
      ]
     },
     "execution_count": 7,
     "metadata": {},
     "output_type": "execute_result"
    }
   ],
   "source": [
    "# NUMBER 1\n",
    "# @param, 2 matrixes M1 and M2, # columns of M1 has to equal to rows in M2\n",
    "# @return returns a matrix result of matrix multiplication of M1 and M2\n",
    "def my_matrix_mult(M1,M2):\n",
    "    M3 = []\n",
    "    if len(M1[0]) != len(M2):\n",
    "        return M3\n",
    "    for i in range(len(M1)):\n",
    "        M3.append([])        \n",
    "        for j in range(len(M2[0])):\n",
    "            val = 0\n",
    "            for k in range(len(M2)):\n",
    "                val += M1[i][k]*M2[k][j]\n",
    "            M3[i].append(val)\n",
    "    return M3\n",
    "\n",
    "my_matrix_mult([[1,1],[2,2]],[[1],[2]]) == [[3],[6]]"
   ]
  },
  {
   "cell_type": "code",
   "execution_count": 14,
   "metadata": {},
   "outputs": [
    {
     "data": {
      "text/plain": [
       "True"
      ]
     },
     "execution_count": 14,
     "metadata": {},
     "output_type": "execute_result"
    }
   ],
   "source": [
    "# NUMBER 2\n",
    "# @param a list of numbers\n",
    "# @return returns a partially sorted list\n",
    "def sort_once(lon):\n",
    "    for i in range(len(lon)-1):\n",
    "        if lon[i] > lon[i+1]:\n",
    "            temp = lon[i]\n",
    "            lon[i] = lon[i+1]\n",
    "            lon[i+1] = temp\n",
    "    return lon\n",
    "\n",
    "# @param a list of numbers\n",
    "# @return a boolean value, true if list is sorted in ascending order\n",
    "# false otherwise\n",
    "def is_sorted(lon):\n",
    "    if len(lon) <= 1:\n",
    "        return True\n",
    "    for i in range(1,len(lon)):\n",
    "        if lon[i-1] > lon[i]:\n",
    "            return False\n",
    "    return True\n",
    "\n",
    "# @param a list of numbers\n",
    "# @return a list of all elements from argument in ascending order\n",
    "def my_sort(lon):\n",
    "    while not is_sorted(lon):\n",
    "        lon = sort_once(lon)\n",
    "    return lon\n",
    "\n",
    "my_sort([7,5,1,3,6,4,2]) == [1,2,3,4,5,6,7]"
   ]
  },
  {
   "cell_type": "code",
   "execution_count": 34,
   "metadata": {},
   "outputs": [
    {
     "data": {
      "text/plain": [
       "True"
      ]
     },
     "execution_count": 34,
     "metadata": {},
     "output_type": "execute_result"
    }
   ],
   "source": [
    "# @param a list\n",
    "# @return returns the average of that list in integer form\n",
    "def my_ave(lon):\n",
    "    total = 0\n",
    "    for i in(lon):\n",
    "        total += i\n",
    "    return total/len(lon)\n",
    "\n",
    "# @param accepts a student\n",
    "# @return returns list of students with weighted percent and grade for the last 2 items in list\n",
    "def assign_student_grades(ast):\n",
    "    hw = ast[3]*0.3\n",
    "    tests = ast[4]*0.45\n",
    "    final = ast[5]*0.25\n",
    "    total = round(((hw + final + tests)/73)*100,3)\n",
    "    ast[6] = (hw + final + tests)\n",
    "    if total >= 90:\n",
    "        ast[7] = \"A\"\n",
    "    elif total >= 80:\n",
    "        ast[7] = \"B\"\n",
    "    elif total >= 70:\n",
    "        ast[7] = \"C\"\n",
    "    elif total >= 60:\n",
    "        ast[7] = \"D\"\n",
    "    else:\n",
    "        ast[7] = \"F\"\n",
    "    return ast\n",
    "\n",
    "# USES MY_AVE \n",
    "# @param Accepts a student (list of lists)\n",
    "# @return returns updated student with hw and test averages\n",
    "# the lowest \n",
    "def process_student(ast):\n",
    "    ast[1] = my_sort(ast[1])[1:]\n",
    "    hmwAvg = my_ave(ast[1])\n",
    "    testAvg = my_ave(ast[2])\n",
    "    ast[3] = round(hmwAvg,2)\n",
    "    ast[4] = round(testAvg,2)\n",
    "    return ast\n",
    "\n",
    "# @param a list of students\n",
    "# @return returns a modified list of students with grades, weighted score, average homework scores\n",
    "def process_list_of_students(lost):\n",
    "    for i in range(len(lost)):\n",
    "        lost[i] = assign_student_grades(process_student(lost[i]))\n",
    "    return lost\n",
    "\n",
    "studentList = [[\"John\", [10, 9, 8, 7, 5, 6, 0], [75, 80, 85], 0, 0, 88, 0,\"N/A\"],[\"Mary\", [9, 7, 8, 7, 5, 3, 2], [99, 88, 87], 0, 0, 98, 0,\"N/A\"]]\n",
    "process_list_of_students(studentList) == [['John', [5, 6, 7, 8, 9, 10], [75, 80, 85], 7.5, 80.0, 88, 60.25, 'B'], ['Mary', [3, 5, 7, 7, 8, 9], [99, 88, 87], 6.5, 91.33, 98, 67.5485, 'A']]\n"
   ]
  },
  {
   "cell_type": "code",
   "execution_count": 39,
   "metadata": {},
   "outputs": [
    {
     "data": {
      "text/plain": [
       "True"
      ]
     },
     "execution_count": 39,
     "metadata": {},
     "output_type": "execute_result"
    }
   ],
   "source": [
    "# @param a number indicating up to what number you want primes\n",
    "# @ return returns a list of prime numbers up to n\n",
    "def my_primes(n):\n",
    "    primeLst = []\n",
    "    tempLst = [i for i in range(2,n+1)]\n",
    "    for i in range(2,n+1):\n",
    "        if tempLst[i-2] != 0:\n",
    "            primeLst.append(i)\n",
    "        for j in range(i*2,n+1,i):\n",
    "            tempLst[j-2] = 0\n",
    "    return primeLst\n",
    "\n",
    "my_primes(50) == [2, 3, 5, 7, 11, 13, 17, 19, 23, 29, 31, 37, 41, 43, 47]        "
   ]
  },
  {
   "cell_type": "code",
   "execution_count": null,
   "metadata": {},
   "outputs": [],
   "source": []
  }
 ],
 "metadata": {
  "kernelspec": {
   "display_name": "Python 3",
   "language": "python",
   "name": "python3"
  },
  "language_info": {
   "codemirror_mode": {
    "name": "ipython",
    "version": 3
   },
   "file_extension": ".py",
   "mimetype": "text/x-python",
   "name": "python",
   "nbconvert_exporter": "python",
   "pygments_lexer": "ipython3",
   "version": "3.7.3"
  }
 },
 "nbformat": 4,
 "nbformat_minor": 2
}
